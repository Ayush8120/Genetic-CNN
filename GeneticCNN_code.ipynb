{
  "nbformat": 4,
  "nbformat_minor": 0,
  "metadata": {
    "colab": {
      "name": "GeneticCNN.ipynb",
      "provenance": [],
      "collapsed_sections": []
    },
    "kernelspec": {
      "name": "python3",
      "display_name": "Python 3"
    },
    "accelerator": "GPU",
    "widgets": {
      "application/vnd.jupyter.widget-state+json": {
        "013a3bd060a242f8a167b54ddcca171e": {
          "model_module": "@jupyter-widgets/controls",
          "model_name": "HBoxModel",
          "state": {
            "_view_name": "HBoxView",
            "_dom_classes": [],
            "_model_name": "HBoxModel",
            "_view_module": "@jupyter-widgets/controls",
            "_model_module_version": "1.5.0",
            "_view_count": null,
            "_view_module_version": "1.5.0",
            "box_style": "",
            "layout": "IPY_MODEL_124ca0f0c97a4f7fa58c86b4d053008d",
            "_model_module": "@jupyter-widgets/controls",
            "children": [
              "IPY_MODEL_8972166fbf8f41989cc896f4a2827003",
              "IPY_MODEL_761b6e07f76e47f6a0563b6e66194cff"
            ]
          }
        },
        "124ca0f0c97a4f7fa58c86b4d053008d": {
          "model_module": "@jupyter-widgets/base",
          "model_name": "LayoutModel",
          "state": {
            "_view_name": "LayoutView",
            "grid_template_rows": null,
            "right": null,
            "justify_content": null,
            "_view_module": "@jupyter-widgets/base",
            "overflow": null,
            "_model_module_version": "1.2.0",
            "_view_count": null,
            "flex_flow": null,
            "width": null,
            "min_width": null,
            "border": null,
            "align_items": null,
            "bottom": null,
            "_model_module": "@jupyter-widgets/base",
            "top": null,
            "grid_column": null,
            "overflow_y": null,
            "overflow_x": null,
            "grid_auto_flow": null,
            "grid_area": null,
            "grid_template_columns": null,
            "flex": null,
            "_model_name": "LayoutModel",
            "justify_items": null,
            "grid_row": null,
            "max_height": null,
            "align_content": null,
            "visibility": null,
            "align_self": null,
            "height": null,
            "min_height": null,
            "padding": null,
            "grid_auto_rows": null,
            "grid_gap": null,
            "max_width": null,
            "order": null,
            "_view_module_version": "1.2.0",
            "grid_template_areas": null,
            "object_position": null,
            "object_fit": null,
            "grid_auto_columns": null,
            "margin": null,
            "display": null,
            "left": null
          }
        },
        "8972166fbf8f41989cc896f4a2827003": {
          "model_module": "@jupyter-widgets/controls",
          "model_name": "FloatProgressModel",
          "state": {
            "_view_name": "ProgressView",
            "style": "IPY_MODEL_50b9d37e213947c0a10734c4d66e5b27",
            "_dom_classes": [],
            "description": "",
            "_model_name": "FloatProgressModel",
            "bar_style": "info",
            "max": 1,
            "_view_module": "@jupyter-widgets/controls",
            "_model_module_version": "1.5.0",
            "value": 1,
            "_view_count": null,
            "_view_module_version": "1.5.0",
            "orientation": "horizontal",
            "min": 0,
            "description_tooltip": null,
            "_model_module": "@jupyter-widgets/controls",
            "layout": "IPY_MODEL_8e3e45a904fd4a26822667d6bd995cd0"
          }
        },
        "761b6e07f76e47f6a0563b6e66194cff": {
          "model_module": "@jupyter-widgets/controls",
          "model_name": "HTMLModel",
          "state": {
            "_view_name": "HTMLView",
            "style": "IPY_MODEL_1754966d194b4d72a81ba999aefbad1c",
            "_dom_classes": [],
            "description": "",
            "_model_name": "HTMLModel",
            "placeholder": "​",
            "_view_module": "@jupyter-widgets/controls",
            "_model_module_version": "1.5.0",
            "value": " 9920512/? [00:20&lt;00:00, 1032596.17it/s]",
            "_view_count": null,
            "_view_module_version": "1.5.0",
            "description_tooltip": null,
            "_model_module": "@jupyter-widgets/controls",
            "layout": "IPY_MODEL_d0b2295bbdfa4a0f9490e312d1881377"
          }
        },
        "50b9d37e213947c0a10734c4d66e5b27": {
          "model_module": "@jupyter-widgets/controls",
          "model_name": "ProgressStyleModel",
          "state": {
            "_view_name": "StyleView",
            "_model_name": "ProgressStyleModel",
            "description_width": "initial",
            "_view_module": "@jupyter-widgets/base",
            "_model_module_version": "1.5.0",
            "_view_count": null,
            "_view_module_version": "1.2.0",
            "bar_color": null,
            "_model_module": "@jupyter-widgets/controls"
          }
        },
        "8e3e45a904fd4a26822667d6bd995cd0": {
          "model_module": "@jupyter-widgets/base",
          "model_name": "LayoutModel",
          "state": {
            "_view_name": "LayoutView",
            "grid_template_rows": null,
            "right": null,
            "justify_content": null,
            "_view_module": "@jupyter-widgets/base",
            "overflow": null,
            "_model_module_version": "1.2.0",
            "_view_count": null,
            "flex_flow": null,
            "width": null,
            "min_width": null,
            "border": null,
            "align_items": null,
            "bottom": null,
            "_model_module": "@jupyter-widgets/base",
            "top": null,
            "grid_column": null,
            "overflow_y": null,
            "overflow_x": null,
            "grid_auto_flow": null,
            "grid_area": null,
            "grid_template_columns": null,
            "flex": null,
            "_model_name": "LayoutModel",
            "justify_items": null,
            "grid_row": null,
            "max_height": null,
            "align_content": null,
            "visibility": null,
            "align_self": null,
            "height": null,
            "min_height": null,
            "padding": null,
            "grid_auto_rows": null,
            "grid_gap": null,
            "max_width": null,
            "order": null,
            "_view_module_version": "1.2.0",
            "grid_template_areas": null,
            "object_position": null,
            "object_fit": null,
            "grid_auto_columns": null,
            "margin": null,
            "display": null,
            "left": null
          }
        },
        "1754966d194b4d72a81ba999aefbad1c": {
          "model_module": "@jupyter-widgets/controls",
          "model_name": "DescriptionStyleModel",
          "state": {
            "_view_name": "StyleView",
            "_model_name": "DescriptionStyleModel",
            "description_width": "",
            "_view_module": "@jupyter-widgets/base",
            "_model_module_version": "1.5.0",
            "_view_count": null,
            "_view_module_version": "1.2.0",
            "_model_module": "@jupyter-widgets/controls"
          }
        },
        "d0b2295bbdfa4a0f9490e312d1881377": {
          "model_module": "@jupyter-widgets/base",
          "model_name": "LayoutModel",
          "state": {
            "_view_name": "LayoutView",
            "grid_template_rows": null,
            "right": null,
            "justify_content": null,
            "_view_module": "@jupyter-widgets/base",
            "overflow": null,
            "_model_module_version": "1.2.0",
            "_view_count": null,
            "flex_flow": null,
            "width": null,
            "min_width": null,
            "border": null,
            "align_items": null,
            "bottom": null,
            "_model_module": "@jupyter-widgets/base",
            "top": null,
            "grid_column": null,
            "overflow_y": null,
            "overflow_x": null,
            "grid_auto_flow": null,
            "grid_area": null,
            "grid_template_columns": null,
            "flex": null,
            "_model_name": "LayoutModel",
            "justify_items": null,
            "grid_row": null,
            "max_height": null,
            "align_content": null,
            "visibility": null,
            "align_self": null,
            "height": null,
            "min_height": null,
            "padding": null,
            "grid_auto_rows": null,
            "grid_gap": null,
            "max_width": null,
            "order": null,
            "_view_module_version": "1.2.0",
            "grid_template_areas": null,
            "object_position": null,
            "object_fit": null,
            "grid_auto_columns": null,
            "margin": null,
            "display": null,
            "left": null
          }
        },
        "3b027955c41b43d7a706074065d1d836": {
          "model_module": "@jupyter-widgets/controls",
          "model_name": "HBoxModel",
          "state": {
            "_view_name": "HBoxView",
            "_dom_classes": [],
            "_model_name": "HBoxModel",
            "_view_module": "@jupyter-widgets/controls",
            "_model_module_version": "1.5.0",
            "_view_count": null,
            "_view_module_version": "1.5.0",
            "box_style": "",
            "layout": "IPY_MODEL_dff7da8e55414deeade10abd35be3ffc",
            "_model_module": "@jupyter-widgets/controls",
            "children": [
              "IPY_MODEL_62d04e2a58ec4186900c6bbb003977a6",
              "IPY_MODEL_e029b0dfd6f04f219d312278375bcdbf"
            ]
          }
        },
        "dff7da8e55414deeade10abd35be3ffc": {
          "model_module": "@jupyter-widgets/base",
          "model_name": "LayoutModel",
          "state": {
            "_view_name": "LayoutView",
            "grid_template_rows": null,
            "right": null,
            "justify_content": null,
            "_view_module": "@jupyter-widgets/base",
            "overflow": null,
            "_model_module_version": "1.2.0",
            "_view_count": null,
            "flex_flow": null,
            "width": null,
            "min_width": null,
            "border": null,
            "align_items": null,
            "bottom": null,
            "_model_module": "@jupyter-widgets/base",
            "top": null,
            "grid_column": null,
            "overflow_y": null,
            "overflow_x": null,
            "grid_auto_flow": null,
            "grid_area": null,
            "grid_template_columns": null,
            "flex": null,
            "_model_name": "LayoutModel",
            "justify_items": null,
            "grid_row": null,
            "max_height": null,
            "align_content": null,
            "visibility": null,
            "align_self": null,
            "height": null,
            "min_height": null,
            "padding": null,
            "grid_auto_rows": null,
            "grid_gap": null,
            "max_width": null,
            "order": null,
            "_view_module_version": "1.2.0",
            "grid_template_areas": null,
            "object_position": null,
            "object_fit": null,
            "grid_auto_columns": null,
            "margin": null,
            "display": null,
            "left": null
          }
        },
        "62d04e2a58ec4186900c6bbb003977a6": {
          "model_module": "@jupyter-widgets/controls",
          "model_name": "FloatProgressModel",
          "state": {
            "_view_name": "ProgressView",
            "style": "IPY_MODEL_272f1ea440814784998b07f5487445e1",
            "_dom_classes": [],
            "description": "",
            "_model_name": "FloatProgressModel",
            "bar_style": "success",
            "max": 1,
            "_view_module": "@jupyter-widgets/controls",
            "_model_module_version": "1.5.0",
            "value": 1,
            "_view_count": null,
            "_view_module_version": "1.5.0",
            "orientation": "horizontal",
            "min": 0,
            "description_tooltip": null,
            "_model_module": "@jupyter-widgets/controls",
            "layout": "IPY_MODEL_7dd5ad0b2a2c4275bb51f2362aa622a0"
          }
        },
        "e029b0dfd6f04f219d312278375bcdbf": {
          "model_module": "@jupyter-widgets/controls",
          "model_name": "HTMLModel",
          "state": {
            "_view_name": "HTMLView",
            "style": "IPY_MODEL_aa36b64b93734dc58cf43d9031e64c24",
            "_dom_classes": [],
            "description": "",
            "_model_name": "HTMLModel",
            "placeholder": "​",
            "_view_module": "@jupyter-widgets/controls",
            "_model_module_version": "1.5.0",
            "value": " 32768/? [00:01&lt;00:00, 29197.79it/s]",
            "_view_count": null,
            "_view_module_version": "1.5.0",
            "description_tooltip": null,
            "_model_module": "@jupyter-widgets/controls",
            "layout": "IPY_MODEL_1ece992be818468cb0c5b7a85ef39a23"
          }
        },
        "272f1ea440814784998b07f5487445e1": {
          "model_module": "@jupyter-widgets/controls",
          "model_name": "ProgressStyleModel",
          "state": {
            "_view_name": "StyleView",
            "_model_name": "ProgressStyleModel",
            "description_width": "initial",
            "_view_module": "@jupyter-widgets/base",
            "_model_module_version": "1.5.0",
            "_view_count": null,
            "_view_module_version": "1.2.0",
            "bar_color": null,
            "_model_module": "@jupyter-widgets/controls"
          }
        },
        "7dd5ad0b2a2c4275bb51f2362aa622a0": {
          "model_module": "@jupyter-widgets/base",
          "model_name": "LayoutModel",
          "state": {
            "_view_name": "LayoutView",
            "grid_template_rows": null,
            "right": null,
            "justify_content": null,
            "_view_module": "@jupyter-widgets/base",
            "overflow": null,
            "_model_module_version": "1.2.0",
            "_view_count": null,
            "flex_flow": null,
            "width": null,
            "min_width": null,
            "border": null,
            "align_items": null,
            "bottom": null,
            "_model_module": "@jupyter-widgets/base",
            "top": null,
            "grid_column": null,
            "overflow_y": null,
            "overflow_x": null,
            "grid_auto_flow": null,
            "grid_area": null,
            "grid_template_columns": null,
            "flex": null,
            "_model_name": "LayoutModel",
            "justify_items": null,
            "grid_row": null,
            "max_height": null,
            "align_content": null,
            "visibility": null,
            "align_self": null,
            "height": null,
            "min_height": null,
            "padding": null,
            "grid_auto_rows": null,
            "grid_gap": null,
            "max_width": null,
            "order": null,
            "_view_module_version": "1.2.0",
            "grid_template_areas": null,
            "object_position": null,
            "object_fit": null,
            "grid_auto_columns": null,
            "margin": null,
            "display": null,
            "left": null
          }
        },
        "aa36b64b93734dc58cf43d9031e64c24": {
          "model_module": "@jupyter-widgets/controls",
          "model_name": "DescriptionStyleModel",
          "state": {
            "_view_name": "StyleView",
            "_model_name": "DescriptionStyleModel",
            "description_width": "",
            "_view_module": "@jupyter-widgets/base",
            "_model_module_version": "1.5.0",
            "_view_count": null,
            "_view_module_version": "1.2.0",
            "_model_module": "@jupyter-widgets/controls"
          }
        },
        "1ece992be818468cb0c5b7a85ef39a23": {
          "model_module": "@jupyter-widgets/base",
          "model_name": "LayoutModel",
          "state": {
            "_view_name": "LayoutView",
            "grid_template_rows": null,
            "right": null,
            "justify_content": null,
            "_view_module": "@jupyter-widgets/base",
            "overflow": null,
            "_model_module_version": "1.2.0",
            "_view_count": null,
            "flex_flow": null,
            "width": null,
            "min_width": null,
            "border": null,
            "align_items": null,
            "bottom": null,
            "_model_module": "@jupyter-widgets/base",
            "top": null,
            "grid_column": null,
            "overflow_y": null,
            "overflow_x": null,
            "grid_auto_flow": null,
            "grid_area": null,
            "grid_template_columns": null,
            "flex": null,
            "_model_name": "LayoutModel",
            "justify_items": null,
            "grid_row": null,
            "max_height": null,
            "align_content": null,
            "visibility": null,
            "align_self": null,
            "height": null,
            "min_height": null,
            "padding": null,
            "grid_auto_rows": null,
            "grid_gap": null,
            "max_width": null,
            "order": null,
            "_view_module_version": "1.2.0",
            "grid_template_areas": null,
            "object_position": null,
            "object_fit": null,
            "grid_auto_columns": null,
            "margin": null,
            "display": null,
            "left": null
          }
        },
        "3d9fc707ba0b456cb25d9a8594fd307f": {
          "model_module": "@jupyter-widgets/controls",
          "model_name": "HBoxModel",
          "state": {
            "_view_name": "HBoxView",
            "_dom_classes": [],
            "_model_name": "HBoxModel",
            "_view_module": "@jupyter-widgets/controls",
            "_model_module_version": "1.5.0",
            "_view_count": null,
            "_view_module_version": "1.5.0",
            "box_style": "",
            "layout": "IPY_MODEL_6b89dba0ccdb4adfbceee29d0b5daefc",
            "_model_module": "@jupyter-widgets/controls",
            "children": [
              "IPY_MODEL_b5debf4e30164c8cab7a2ba0060a6483",
              "IPY_MODEL_be80aa88aa3947758fdbe93e7fd47b6e"
            ]
          }
        },
        "6b89dba0ccdb4adfbceee29d0b5daefc": {
          "model_module": "@jupyter-widgets/base",
          "model_name": "LayoutModel",
          "state": {
            "_view_name": "LayoutView",
            "grid_template_rows": null,
            "right": null,
            "justify_content": null,
            "_view_module": "@jupyter-widgets/base",
            "overflow": null,
            "_model_module_version": "1.2.0",
            "_view_count": null,
            "flex_flow": null,
            "width": null,
            "min_width": null,
            "border": null,
            "align_items": null,
            "bottom": null,
            "_model_module": "@jupyter-widgets/base",
            "top": null,
            "grid_column": null,
            "overflow_y": null,
            "overflow_x": null,
            "grid_auto_flow": null,
            "grid_area": null,
            "grid_template_columns": null,
            "flex": null,
            "_model_name": "LayoutModel",
            "justify_items": null,
            "grid_row": null,
            "max_height": null,
            "align_content": null,
            "visibility": null,
            "align_self": null,
            "height": null,
            "min_height": null,
            "padding": null,
            "grid_auto_rows": null,
            "grid_gap": null,
            "max_width": null,
            "order": null,
            "_view_module_version": "1.2.0",
            "grid_template_areas": null,
            "object_position": null,
            "object_fit": null,
            "grid_auto_columns": null,
            "margin": null,
            "display": null,
            "left": null
          }
        },
        "b5debf4e30164c8cab7a2ba0060a6483": {
          "model_module": "@jupyter-widgets/controls",
          "model_name": "FloatProgressModel",
          "state": {
            "_view_name": "ProgressView",
            "style": "IPY_MODEL_cb9dc872d729449fb173ed3a815cbb0a",
            "_dom_classes": [],
            "description": "",
            "_model_name": "FloatProgressModel",
            "bar_style": "success",
            "max": 1,
            "_view_module": "@jupyter-widgets/controls",
            "_model_module_version": "1.5.0",
            "value": 1,
            "_view_count": null,
            "_view_module_version": "1.5.0",
            "orientation": "horizontal",
            "min": 0,
            "description_tooltip": null,
            "_model_module": "@jupyter-widgets/controls",
            "layout": "IPY_MODEL_d026e5be7bf74036a5df554c78f2016d"
          }
        },
        "be80aa88aa3947758fdbe93e7fd47b6e": {
          "model_module": "@jupyter-widgets/controls",
          "model_name": "HTMLModel",
          "state": {
            "_view_name": "HTMLView",
            "style": "IPY_MODEL_88c2d40264d44d3a8b15a3fa647da477",
            "_dom_classes": [],
            "description": "",
            "_model_name": "HTMLModel",
            "placeholder": "​",
            "_view_module": "@jupyter-widgets/controls",
            "_model_module_version": "1.5.0",
            "value": " 1654784/? [00:00&lt;00:00, 1999544.00it/s]",
            "_view_count": null,
            "_view_module_version": "1.5.0",
            "description_tooltip": null,
            "_model_module": "@jupyter-widgets/controls",
            "layout": "IPY_MODEL_1dd9b58009334ab6a89063fc327513a4"
          }
        },
        "cb9dc872d729449fb173ed3a815cbb0a": {
          "model_module": "@jupyter-widgets/controls",
          "model_name": "ProgressStyleModel",
          "state": {
            "_view_name": "StyleView",
            "_model_name": "ProgressStyleModel",
            "description_width": "initial",
            "_view_module": "@jupyter-widgets/base",
            "_model_module_version": "1.5.0",
            "_view_count": null,
            "_view_module_version": "1.2.0",
            "bar_color": null,
            "_model_module": "@jupyter-widgets/controls"
          }
        },
        "d026e5be7bf74036a5df554c78f2016d": {
          "model_module": "@jupyter-widgets/base",
          "model_name": "LayoutModel",
          "state": {
            "_view_name": "LayoutView",
            "grid_template_rows": null,
            "right": null,
            "justify_content": null,
            "_view_module": "@jupyter-widgets/base",
            "overflow": null,
            "_model_module_version": "1.2.0",
            "_view_count": null,
            "flex_flow": null,
            "width": null,
            "min_width": null,
            "border": null,
            "align_items": null,
            "bottom": null,
            "_model_module": "@jupyter-widgets/base",
            "top": null,
            "grid_column": null,
            "overflow_y": null,
            "overflow_x": null,
            "grid_auto_flow": null,
            "grid_area": null,
            "grid_template_columns": null,
            "flex": null,
            "_model_name": "LayoutModel",
            "justify_items": null,
            "grid_row": null,
            "max_height": null,
            "align_content": null,
            "visibility": null,
            "align_self": null,
            "height": null,
            "min_height": null,
            "padding": null,
            "grid_auto_rows": null,
            "grid_gap": null,
            "max_width": null,
            "order": null,
            "_view_module_version": "1.2.0",
            "grid_template_areas": null,
            "object_position": null,
            "object_fit": null,
            "grid_auto_columns": null,
            "margin": null,
            "display": null,
            "left": null
          }
        },
        "88c2d40264d44d3a8b15a3fa647da477": {
          "model_module": "@jupyter-widgets/controls",
          "model_name": "DescriptionStyleModel",
          "state": {
            "_view_name": "StyleView",
            "_model_name": "DescriptionStyleModel",
            "description_width": "",
            "_view_module": "@jupyter-widgets/base",
            "_model_module_version": "1.5.0",
            "_view_count": null,
            "_view_module_version": "1.2.0",
            "_model_module": "@jupyter-widgets/controls"
          }
        },
        "1dd9b58009334ab6a89063fc327513a4": {
          "model_module": "@jupyter-widgets/base",
          "model_name": "LayoutModel",
          "state": {
            "_view_name": "LayoutView",
            "grid_template_rows": null,
            "right": null,
            "justify_content": null,
            "_view_module": "@jupyter-widgets/base",
            "overflow": null,
            "_model_module_version": "1.2.0",
            "_view_count": null,
            "flex_flow": null,
            "width": null,
            "min_width": null,
            "border": null,
            "align_items": null,
            "bottom": null,
            "_model_module": "@jupyter-widgets/base",
            "top": null,
            "grid_column": null,
            "overflow_y": null,
            "overflow_x": null,
            "grid_auto_flow": null,
            "grid_area": null,
            "grid_template_columns": null,
            "flex": null,
            "_model_name": "LayoutModel",
            "justify_items": null,
            "grid_row": null,
            "max_height": null,
            "align_content": null,
            "visibility": null,
            "align_self": null,
            "height": null,
            "min_height": null,
            "padding": null,
            "grid_auto_rows": null,
            "grid_gap": null,
            "max_width": null,
            "order": null,
            "_view_module_version": "1.2.0",
            "grid_template_areas": null,
            "object_position": null,
            "object_fit": null,
            "grid_auto_columns": null,
            "margin": null,
            "display": null,
            "left": null
          }
        },
        "33c54b06dd1e44268cc2d77a8933e536": {
          "model_module": "@jupyter-widgets/controls",
          "model_name": "HBoxModel",
          "state": {
            "_view_name": "HBoxView",
            "_dom_classes": [],
            "_model_name": "HBoxModel",
            "_view_module": "@jupyter-widgets/controls",
            "_model_module_version": "1.5.0",
            "_view_count": null,
            "_view_module_version": "1.5.0",
            "box_style": "",
            "layout": "IPY_MODEL_9cd3559f12a14a7fb696a57464391d88",
            "_model_module": "@jupyter-widgets/controls",
            "children": [
              "IPY_MODEL_7f4e9f538d434756a82d3c3b00347651",
              "IPY_MODEL_5a93d16b4e154fb78b9564f47f913672"
            ]
          }
        },
        "9cd3559f12a14a7fb696a57464391d88": {
          "model_module": "@jupyter-widgets/base",
          "model_name": "LayoutModel",
          "state": {
            "_view_name": "LayoutView",
            "grid_template_rows": null,
            "right": null,
            "justify_content": null,
            "_view_module": "@jupyter-widgets/base",
            "overflow": null,
            "_model_module_version": "1.2.0",
            "_view_count": null,
            "flex_flow": null,
            "width": null,
            "min_width": null,
            "border": null,
            "align_items": null,
            "bottom": null,
            "_model_module": "@jupyter-widgets/base",
            "top": null,
            "grid_column": null,
            "overflow_y": null,
            "overflow_x": null,
            "grid_auto_flow": null,
            "grid_area": null,
            "grid_template_columns": null,
            "flex": null,
            "_model_name": "LayoutModel",
            "justify_items": null,
            "grid_row": null,
            "max_height": null,
            "align_content": null,
            "visibility": null,
            "align_self": null,
            "height": null,
            "min_height": null,
            "padding": null,
            "grid_auto_rows": null,
            "grid_gap": null,
            "max_width": null,
            "order": null,
            "_view_module_version": "1.2.0",
            "grid_template_areas": null,
            "object_position": null,
            "object_fit": null,
            "grid_auto_columns": null,
            "margin": null,
            "display": null,
            "left": null
          }
        },
        "7f4e9f538d434756a82d3c3b00347651": {
          "model_module": "@jupyter-widgets/controls",
          "model_name": "FloatProgressModel",
          "state": {
            "_view_name": "ProgressView",
            "style": "IPY_MODEL_224660e0563f4414a7e69502e67a2dd8",
            "_dom_classes": [],
            "description": "  0%",
            "_model_name": "FloatProgressModel",
            "bar_style": "info",
            "max": 1,
            "_view_module": "@jupyter-widgets/controls",
            "_model_module_version": "1.5.0",
            "value": 0,
            "_view_count": null,
            "_view_module_version": "1.5.0",
            "orientation": "horizontal",
            "min": 0,
            "description_tooltip": null,
            "_model_module": "@jupyter-widgets/controls",
            "layout": "IPY_MODEL_8df0fff30878431fbf2cb1f02c0ff1f7"
          }
        },
        "5a93d16b4e154fb78b9564f47f913672": {
          "model_module": "@jupyter-widgets/controls",
          "model_name": "HTMLModel",
          "state": {
            "_view_name": "HTMLView",
            "style": "IPY_MODEL_170117272f3f4086b0b4beb1d696f134",
            "_dom_classes": [],
            "description": "",
            "_model_name": "HTMLModel",
            "placeholder": "​",
            "_view_module": "@jupyter-widgets/controls",
            "_model_module_version": "1.5.0",
            "value": " 0/4542 [00:00&lt;?, ?it/s]",
            "_view_count": null,
            "_view_module_version": "1.5.0",
            "description_tooltip": null,
            "_model_module": "@jupyter-widgets/controls",
            "layout": "IPY_MODEL_ec7a78aadc81417f97e51aee0afa207c"
          }
        },
        "224660e0563f4414a7e69502e67a2dd8": {
          "model_module": "@jupyter-widgets/controls",
          "model_name": "ProgressStyleModel",
          "state": {
            "_view_name": "StyleView",
            "_model_name": "ProgressStyleModel",
            "description_width": "initial",
            "_view_module": "@jupyter-widgets/base",
            "_model_module_version": "1.5.0",
            "_view_count": null,
            "_view_module_version": "1.2.0",
            "bar_color": null,
            "_model_module": "@jupyter-widgets/controls"
          }
        },
        "8df0fff30878431fbf2cb1f02c0ff1f7": {
          "model_module": "@jupyter-widgets/base",
          "model_name": "LayoutModel",
          "state": {
            "_view_name": "LayoutView",
            "grid_template_rows": null,
            "right": null,
            "justify_content": null,
            "_view_module": "@jupyter-widgets/base",
            "overflow": null,
            "_model_module_version": "1.2.0",
            "_view_count": null,
            "flex_flow": null,
            "width": null,
            "min_width": null,
            "border": null,
            "align_items": null,
            "bottom": null,
            "_model_module": "@jupyter-widgets/base",
            "top": null,
            "grid_column": null,
            "overflow_y": null,
            "overflow_x": null,
            "grid_auto_flow": null,
            "grid_area": null,
            "grid_template_columns": null,
            "flex": null,
            "_model_name": "LayoutModel",
            "justify_items": null,
            "grid_row": null,
            "max_height": null,
            "align_content": null,
            "visibility": null,
            "align_self": null,
            "height": null,
            "min_height": null,
            "padding": null,
            "grid_auto_rows": null,
            "grid_gap": null,
            "max_width": null,
            "order": null,
            "_view_module_version": "1.2.0",
            "grid_template_areas": null,
            "object_position": null,
            "object_fit": null,
            "grid_auto_columns": null,
            "margin": null,
            "display": null,
            "left": null
          }
        },
        "170117272f3f4086b0b4beb1d696f134": {
          "model_module": "@jupyter-widgets/controls",
          "model_name": "DescriptionStyleModel",
          "state": {
            "_view_name": "StyleView",
            "_model_name": "DescriptionStyleModel",
            "description_width": "",
            "_view_module": "@jupyter-widgets/base",
            "_model_module_version": "1.5.0",
            "_view_count": null,
            "_view_module_version": "1.2.0",
            "_model_module": "@jupyter-widgets/controls"
          }
        },
        "ec7a78aadc81417f97e51aee0afa207c": {
          "model_module": "@jupyter-widgets/base",
          "model_name": "LayoutModel",
          "state": {
            "_view_name": "LayoutView",
            "grid_template_rows": null,
            "right": null,
            "justify_content": null,
            "_view_module": "@jupyter-widgets/base",
            "overflow": null,
            "_model_module_version": "1.2.0",
            "_view_count": null,
            "flex_flow": null,
            "width": null,
            "min_width": null,
            "border": null,
            "align_items": null,
            "bottom": null,
            "_model_module": "@jupyter-widgets/base",
            "top": null,
            "grid_column": null,
            "overflow_y": null,
            "overflow_x": null,
            "grid_auto_flow": null,
            "grid_area": null,
            "grid_template_columns": null,
            "flex": null,
            "_model_name": "LayoutModel",
            "justify_items": null,
            "grid_row": null,
            "max_height": null,
            "align_content": null,
            "visibility": null,
            "align_self": null,
            "height": null,
            "min_height": null,
            "padding": null,
            "grid_auto_rows": null,
            "grid_gap": null,
            "max_width": null,
            "order": null,
            "_view_module_version": "1.2.0",
            "grid_template_areas": null,
            "object_position": null,
            "object_fit": null,
            "grid_auto_columns": null,
            "margin": null,
            "display": null,
            "left": null
          }
        }
      }
    }
  },
  "cells": [
    {
      "cell_type": "markdown",
      "metadata": {
        "id": "zL78-m-PYJF1"
      },
      "source": [
        "#**Genetic CNN-(76)**\n",
        "\n",
        "####Ayush Agrawal - 2018A8PS0469P\n",
        "####Aryan Gupta  -  2018A7PS0017P\n",
        "####Saurav Biyani - 2018A3PS0461P"
      ]
    },
    {
      "cell_type": "code",
      "metadata": {
        "colab": {
          "base_uri": "https://localhost:8080/"
        },
        "id": "1HaD6qobbq-E",
        "outputId": "35906b00-a31e-49d0-f025-01a4fe8f8dc6"
      },
      "source": [
        "!pip install deap\n",
        "!pip install torchsummary"
      ],
      "execution_count": null,
      "outputs": [
        {
          "output_type": "stream",
          "text": [
            "Collecting deap\n",
            "\u001b[?25l  Downloading https://files.pythonhosted.org/packages/0a/eb/2bd0a32e3ce757fb26264765abbaedd6d4d3640d90219a513aeabd08ee2b/deap-1.3.1-cp36-cp36m-manylinux2010_x86_64.whl (157kB)\n",
            "\r\u001b[K     |██                              | 10kB 21.2MB/s eta 0:00:01\r\u001b[K     |████▏                           | 20kB 18.2MB/s eta 0:00:01\r\u001b[K     |██████▎                         | 30kB 14.4MB/s eta 0:00:01\r\u001b[K     |████████▍                       | 40kB 13.2MB/s eta 0:00:01\r\u001b[K     |██████████▍                     | 51kB 9.2MB/s eta 0:00:01\r\u001b[K     |████████████▌                   | 61kB 8.4MB/s eta 0:00:01\r\u001b[K     |██████████████▋                 | 71kB 9.4MB/s eta 0:00:01\r\u001b[K     |████████████████▊               | 81kB 10.4MB/s eta 0:00:01\r\u001b[K     |██████████████████▊             | 92kB 10.9MB/s eta 0:00:01\r\u001b[K     |████████████████████▉           | 102kB 8.8MB/s eta 0:00:01\r\u001b[K     |███████████████████████         | 112kB 8.8MB/s eta 0:00:01\r\u001b[K     |█████████████████████████       | 122kB 8.8MB/s eta 0:00:01\r\u001b[K     |███████████████████████████▏    | 133kB 8.8MB/s eta 0:00:01\r\u001b[K     |█████████████████████████████▏  | 143kB 8.8MB/s eta 0:00:01\r\u001b[K     |███████████████████████████████▎| 153kB 8.8MB/s eta 0:00:01\r\u001b[K     |████████████████████████████████| 163kB 8.8MB/s \n",
            "\u001b[?25hRequirement already satisfied: numpy in /usr/local/lib/python3.6/dist-packages (from deap) (1.18.5)\n",
            "Installing collected packages: deap\n",
            "Successfully installed deap-1.3.1\n",
            "Requirement already satisfied: torchsummary in /usr/local/lib/python3.6/dist-packages (1.5.1)\n"
          ],
          "name": "stdout"
        }
      ]
    },
    {
      "cell_type": "markdown",
      "metadata": {
        "id": "jtGGy0YEbx0o"
      },
      "source": [
        "##**Importing Libraries**"
      ]
    },
    {
      "cell_type": "code",
      "metadata": {
        "id": "LIS_fuBGbbqJ"
      },
      "source": [
        "import random \n",
        "import numpy as np \n",
        "from deap import base, creator,tools,algorithms\n",
        "from scipy.stats import bernoulli\n",
        "import torch\n",
        "import torchvision\n",
        "import torchvision.transforms as transforms\n",
        "import torch.nn as nn\n",
        "import torch.nn.functional as F\n",
        "import torch.optim as optim\n",
        "import torchvision.transforms as transforms\n",
        "from torchsummary import summary\n"
      ],
      "execution_count": null,
      "outputs": []
    },
    {
      "cell_type": "markdown",
      "metadata": {
        "id": "g-TQMSXPcEah"
      },
      "source": [
        "##**CNN IMPLIMENTED**\n",
        "\n"
      ]
    },
    {
      "cell_type": "markdown",
      "metadata": {
        "id": "rF-w92l6Svsg"
      },
      "source": [
        "Class Net takes the chromosome as input and makes the corresponding network.This network is trained to get the fitness function."
      ]
    },
    {
      "cell_type": "code",
      "metadata": {
        "id": "i5PGX7zheC20"
      },
      "source": [
        "class Net(nn.Module):\n",
        "    def __init__(self,chromosome):\n",
        "        super(Net, self).__init__()\n",
        "        self.chromosome=chromosome\n",
        "        \n",
        "        ## first conv layer c5@20\n",
        "        self.conv1 = torch.nn.Conv2d(in_channels= 1 , out_channels=20,kernel_size=5,stride = 1,padding= 2)\n",
        "\n",
        "        ## for network 1\n",
        "\n",
        "        self.conv2 = torch.nn.Conv2d(in_channels=20,out_channels=20,kernel_size=3,stride=1,padding=1)\n",
        "        self.conv3 = torch.nn.Conv2d(in_channels=20,out_channels=20,kernel_size=3,stride=1,padding=1)\n",
        "        self.conv4 = torch.nn.Conv2d(in_channels=20,out_channels=20,kernel_size=3,stride=1,padding=1)\n",
        "\n",
        "        ## max pool1 mp2s2\n",
        "\n",
        "        self.pool1 =torch.nn.MaxPool2d(kernel_size=2,stride=2)\n",
        "\n",
        "        ## second conv layer c5@50\n",
        "        self.conv5 = torch.nn.Conv2d(in_channels=20,out_channels=50,kernel_size=5,stride=1,padding = 2)\n",
        "\n",
        "        ## for network2\n",
        "        self.conv6 = torch.nn.Conv2d(in_channels=50,out_channels=50,kernel_size=3,stride=1,padding = 1)\n",
        "        self.conv7 = torch.nn.Conv2d(in_channels=50,out_channels=50,kernel_size=3,stride=1,padding = 1)\n",
        "        self.conv8 = torch.nn.Conv2d(in_channels=50,out_channels=50,kernel_size=3,stride=1,padding = 1)\n",
        "        self.conv9 = torch.nn.Conv2d(in_channels=50,out_channels=50,kernel_size=3,stride=1,padding = 1)\n",
        "        self.conv10 = torch.nn.Conv2d(in_channels=50,out_channels=50,kernel_size=3,stride=1,padding = 1)\n",
        "\n",
        "        ## maxpooling layer 2 mp2s2\n",
        "        self.pool2 = torch.nn.MaxPool2d(kernel_size=2,stride=2)\n",
        "\n",
        "        ## lesnet layer\n",
        "        self.fc1 = nn.Linear(7*7*50,500)\n",
        "        self.fc2 = nn.Linear(500,10)\n",
        "\n",
        "        ############################## initialization finished ############################3\n",
        "\n",
        "\n",
        "   # forward method does one feedforward of the whole network and returns the output as predicted class.\n",
        "    def forward(self, x):\n",
        "      gene = self.chromosome\n",
        "      ## out1 output of first conv layer\n",
        "      out1 = F.relu(self.conv1(x))\n",
        "           \n",
        "      ## out2 output of network1  \n",
        "        \n",
        "      #first node\n",
        "      out_1 = F.relu(self.conv2(out1))\n",
        "        \n",
        "      #second node\n",
        "      if gene[0]==1:\n",
        "        out_2 = F.relu(self.conv3(out1+out_1))\n",
        "      else:\n",
        "        out_2 = F.relu(self.conv3(out_1))\n",
        "\n",
        "      #third node\n",
        "      y = out1.clone()\n",
        "      if gene[1]==1:\n",
        "         y += out_1 \n",
        "      if gene[2]==1:\n",
        "         y += out_2 \n",
        "      out2 = F.relu(self.conv4(y))\n",
        "      \n",
        "      ## out3 output maxpool\n",
        "      out3 = self.pool1(out2)\n",
        "     \n",
        "      ## out4 output conv layer 2\n",
        "      out4 = F.relu(self.conv5(out3))\n",
        "       \n",
        "      ## out5 output of network2 \n",
        "      \n",
        "      # first node\n",
        "      out_1_1 = F.relu(self.conv6(out4))\n",
        "\n",
        "      # second node\n",
        "      x1 = out4.clone()\n",
        "      if gene[3]==1:\n",
        "        x1+= out_1_1\n",
        "      out_2_1 = F.relu(self.conv7(x1))\n",
        "\n",
        "      # third node\n",
        "      x2 = out4.clone()\n",
        "      if gene[4]==1:\n",
        "        x2+=out_1_1\n",
        "      if gene[5]==1:\n",
        "        x2+= out_2_1\n",
        "      out_3_1 = F.relu(self.conv8(x2))\n",
        "\n",
        "      # fourth node\n",
        "      x3 = out4.clone()\n",
        "      if gene[6]:\n",
        "        x3+=out_1_1\n",
        "      if gene[7]:\n",
        "        x3+=out_2_1\n",
        "      if gene[8]:\n",
        "        x3+=out_3_1\n",
        "      out_4_1 = F.relu(self.conv9(x3))\n",
        "\n",
        "      # fifth node\n",
        "      x4 = out4.clone()\n",
        "      if gene[9]:\n",
        "        x4+= out_1_1\n",
        "      if gene[10]:\n",
        "        x4+=out_2_1\n",
        "      if gene[11]:\n",
        "        x4+=out_3_1\n",
        "      if gene[12]:\n",
        "        x4+=out_4_1\n",
        "      out5 = F.relu(self.conv10(x4))\n",
        "\n",
        "      ## out 6 output of max pool 2\n",
        "      out6 = self.pool2(out5)\n",
        "      \n",
        "      ##flattening out6 to feed to linear layer\n",
        "      out7 = torch.Tensor.reshape(out6,(1,2450))\n",
        "\n",
        "      ## out7 is output of first lenar layer\n",
        "      out8 = F.relu(self.fc1(out7))\n",
        "      \n",
        "      ## out 8 is output of last layer after applying softmax\n",
        "      out9 = F.softmax(self.fc2(out8))\n",
        "      \n",
        "      return out9\n",
        "        \n",
        "\n"
      ],
      "execution_count": null,
      "outputs": []
    },
    {
      "cell_type": "markdown",
      "metadata": {
        "id": "SdDWPHVXpkgd"
      },
      "source": [
        "##**Training function**"
      ]
    },
    {
      "cell_type": "markdown",
      "metadata": {
        "id": "JcSt8x_ATZsN"
      },
      "source": [
        "Takes input as network, training dataset, corresponding chromosome etc. and trains the network on the training dataset."
      ]
    },
    {
      "cell_type": "code",
      "metadata": {
        "id": "f2f2J2Dfpobg"
      },
      "source": [
        "def trainFunction(net,trainData,chromosome,optimizer,criterion):\n",
        "    for epoch in range(totalEpochs):\n",
        "        currentLoss=0.0\n",
        "        for i,data in enumerate(trainData,0):\n",
        "\n",
        "            inputs,labels=data\n",
        "            inputs, labels = inputs.to(device), labels.to(device)\n",
        "            \n",
        "            optimizer.zero_grad()\n",
        "            \n",
        "            outputs=net(inputs)\n",
        "            loss=criterion(outputs,labels)\n",
        "            loss.backward()\n",
        "            optimizer.step()\n",
        "            currentLoss +=loss.item()\n",
        "            if(i%20000)==19999:\n",
        "                print(\"[%d,%5d] loss: %.3f\" %(epoch+1,i+1,currentLoss/20000))\n",
        "                currentLoss=0.0\n",
        "                \n",
        "    print(\"Finished Training\")\n",
        "    return net\n"
      ],
      "execution_count": null,
      "outputs": []
    },
    {
      "cell_type": "markdown",
      "metadata": {
        "id": "k9BW9BUdTz5y"
      },
      "source": [
        "##**Testing Function**"
      ]
    },
    {
      "cell_type": "markdown",
      "metadata": {
        "id": "SCC5Qzi8T5cn"
      },
      "source": [
        "Test function takes the network and Test Dataset and returns the Testing accuracy."
      ]
    },
    {
      "cell_type": "code",
      "metadata": {
        "id": "52q0NK2ETOXJ"
      },
      "source": [
        "def testFunction(net,testLoader):\n",
        "    correct=0\n",
        "    total=0\n",
        "    with torch.no_grad():\n",
        "        for data in testLoader:\n",
        "            images,labels=data\n",
        "            images, labels = images.to(device), labels.to(device)\n",
        "            \n",
        "            outputs=net(images)\n",
        "            _,predicted=torch.max(outputs.data,1)\n",
        "            total+=labels.size(0)\n",
        "            correct+=(predicted==labels).sum().item()\n",
        "    accuracy=correct/total\n",
        "    print(\"Accuracy: \"+str(accuracy))\n",
        "    return np.float32(accuracy),"
      ],
      "execution_count": null,
      "outputs": []
    },
    {
      "cell_type": "markdown",
      "metadata": {
        "id": "dzvt4J69Uh-B"
      },
      "source": [
        "##**Score Function**"
      ]
    },
    {
      "cell_type": "markdown",
      "metadata": {
        "id": "QHk_WfTYUQY5"
      },
      "source": [
        "Score function takes chromosome as input and returns the fitness value of the chromosome by training and then testing."
      ]
    },
    {
      "cell_type": "code",
      "metadata": {
        "id": "_FtNHrnDTSF8"
      },
      "source": [
        "def scoreFunction(chromosome):\n",
        "  print(chromosome)\n",
        "  net = Net(chromosome)\n",
        "  \n",
        "  net.to(device)\n",
        "  print(net)\n",
        "  criterion = nn.CrossEntropyLoss()\n",
        "  optimizer = optim.Adam(net.parameters(), lr=0.00001)\n",
        "  net=trainFunction(net,trainloaderMnist,chromosome,optimizer,criterion)\n",
        "  return testFunction(net,testloaderMnist)"
      ],
      "execution_count": null,
      "outputs": []
    },
    {
      "cell_type": "markdown",
      "metadata": {
        "id": "cA8lAjYkUvWq"
      },
      "source": [
        "##**Loading Training and Testing Dataset**"
      ]
    },
    {
      "cell_type": "code",
      "metadata": {
        "id": "fCjjSFQzrATj",
        "colab": {
          "base_uri": "https://localhost:8080/",
          "height": 403,
          "referenced_widgets": [
            "013a3bd060a242f8a167b54ddcca171e",
            "124ca0f0c97a4f7fa58c86b4d053008d",
            "8972166fbf8f41989cc896f4a2827003",
            "761b6e07f76e47f6a0563b6e66194cff",
            "50b9d37e213947c0a10734c4d66e5b27",
            "8e3e45a904fd4a26822667d6bd995cd0",
            "1754966d194b4d72a81ba999aefbad1c",
            "d0b2295bbdfa4a0f9490e312d1881377",
            "3b027955c41b43d7a706074065d1d836",
            "dff7da8e55414deeade10abd35be3ffc",
            "62d04e2a58ec4186900c6bbb003977a6",
            "e029b0dfd6f04f219d312278375bcdbf",
            "272f1ea440814784998b07f5487445e1",
            "7dd5ad0b2a2c4275bb51f2362aa622a0",
            "aa36b64b93734dc58cf43d9031e64c24",
            "1ece992be818468cb0c5b7a85ef39a23",
            "3d9fc707ba0b456cb25d9a8594fd307f",
            "6b89dba0ccdb4adfbceee29d0b5daefc",
            "b5debf4e30164c8cab7a2ba0060a6483",
            "be80aa88aa3947758fdbe93e7fd47b6e",
            "cb9dc872d729449fb173ed3a815cbb0a",
            "d026e5be7bf74036a5df554c78f2016d",
            "88c2d40264d44d3a8b15a3fa647da477",
            "1dd9b58009334ab6a89063fc327513a4",
            "33c54b06dd1e44268cc2d77a8933e536",
            "9cd3559f12a14a7fb696a57464391d88",
            "7f4e9f538d434756a82d3c3b00347651",
            "5a93d16b4e154fb78b9564f47f913672",
            "224660e0563f4414a7e69502e67a2dd8",
            "8df0fff30878431fbf2cb1f02c0ff1f7",
            "170117272f3f4086b0b4beb1d696f134",
            "ec7a78aadc81417f97e51aee0afa207c"
          ]
        },
        "outputId": "f5a7b9f2-120d-419c-b53d-e75495195fb4"
      },
      "source": [
        "transform = transforms.Compose(\n",
        "    [transforms.ToTensor()])\n",
        "\n",
        "trainsetMnist=torchvision.datasets.MNIST(root='./data', train=True,download=True, transform=transform)\n",
        "trainloaderMnist = torch.utils.data.DataLoader(trainsetMnist, batch_size=1,\n",
        "                                          shuffle=True, num_workers=1)\n",
        "\n",
        "testsetMnist = torchvision.datasets.MNIST(root='./data', train=False,download=True, transform=transform)\n",
        "testloaderMnist = torch.utils.data.DataLoader(testsetMnist, batch_size=1,\n",
        "                                         shuffle=False, num_workers=1)\n",
        "classes = ('0', '1', '2', '3',\n",
        "           '4', '5', '6', '7', '8', '9')\n",
        "\n",
        "device = torch.device(\"cuda:0\" if torch.cuda.is_available() else \"cpu\")"
      ],
      "execution_count": null,
      "outputs": [
        {
          "output_type": "stream",
          "text": [
            "Downloading http://yann.lecun.com/exdb/mnist/train-images-idx3-ubyte.gz to ./data/MNIST/raw/train-images-idx3-ubyte.gz\n"
          ],
          "name": "stdout"
        },
        {
          "output_type": "display_data",
          "data": {
            "application/vnd.jupyter.widget-view+json": {
              "model_id": "013a3bd060a242f8a167b54ddcca171e",
              "version_minor": 0,
              "version_major": 2
            },
            "text/plain": [
              "HBox(children=(FloatProgress(value=1.0, bar_style='info', max=1.0), HTML(value='')))"
            ]
          },
          "metadata": {
            "tags": []
          }
        },
        {
          "output_type": "stream",
          "text": [
            "Extracting ./data/MNIST/raw/train-images-idx3-ubyte.gz to ./data/MNIST/raw\n",
            "Downloading http://yann.lecun.com/exdb/mnist/train-labels-idx1-ubyte.gz to ./data/MNIST/raw/train-labels-idx1-ubyte.gz\n"
          ],
          "name": "stdout"
        },
        {
          "output_type": "display_data",
          "data": {
            "application/vnd.jupyter.widget-view+json": {
              "model_id": "3b027955c41b43d7a706074065d1d836",
              "version_minor": 0,
              "version_major": 2
            },
            "text/plain": [
              "HBox(children=(FloatProgress(value=1.0, bar_style='info', max=1.0), HTML(value='')))"
            ]
          },
          "metadata": {
            "tags": []
          }
        },
        {
          "output_type": "stream",
          "text": [
            "Extracting ./data/MNIST/raw/train-labels-idx1-ubyte.gz to ./data/MNIST/raw\n",
            "Downloading http://yann.lecun.com/exdb/mnist/t10k-images-idx3-ubyte.gz to ./data/MNIST/raw/t10k-images-idx3-ubyte.gz\n"
          ],
          "name": "stdout"
        },
        {
          "output_type": "display_data",
          "data": {
            "application/vnd.jupyter.widget-view+json": {
              "model_id": "3d9fc707ba0b456cb25d9a8594fd307f",
              "version_minor": 0,
              "version_major": 2
            },
            "text/plain": [
              "HBox(children=(FloatProgress(value=1.0, bar_style='info', max=1.0), HTML(value='')))"
            ]
          },
          "metadata": {
            "tags": []
          }
        },
        {
          "output_type": "stream",
          "text": [
            "Extracting ./data/MNIST/raw/t10k-images-idx3-ubyte.gz to ./data/MNIST/raw\n",
            "Downloading http://yann.lecun.com/exdb/mnist/t10k-labels-idx1-ubyte.gz to ./data/MNIST/raw/t10k-labels-idx1-ubyte.gz\n",
            "\n",
            "\n"
          ],
          "name": "stdout"
        },
        {
          "output_type": "display_data",
          "data": {
            "application/vnd.jupyter.widget-view+json": {
              "model_id": "33c54b06dd1e44268cc2d77a8933e536",
              "version_minor": 0,
              "version_major": 2
            },
            "text/plain": [
              "HBox(children=(FloatProgress(value=1.0, bar_style='info', max=1.0), HTML(value='')))"
            ]
          },
          "metadata": {
            "tags": []
          }
        },
        {
          "output_type": "stream",
          "text": [
            "Extracting ./data/MNIST/raw/t10k-labels-idx1-ubyte.gz to ./data/MNIST/raw\n",
            "Processing...\n",
            "Done!\n"
          ],
          "name": "stdout"
        },
        {
          "output_type": "stream",
          "text": [
            "/usr/local/lib/python3.6/dist-packages/torchvision/datasets/mnist.py:480: UserWarning: The given NumPy array is not writeable, and PyTorch does not support non-writeable tensors. This means you can write to the underlying (supposedly non-writeable) NumPy array using the tensor. You may want to copy the array to protect its data or make it writeable before converting it to a tensor. This type of warning will be suppressed for the rest of this program. (Triggered internally at  /pytorch/torch/csrc/utils/tensor_numpy.cpp:141.)\n",
            "  return torch.from_numpy(parsed.astype(m[2], copy=False)).view(*s)\n"
          ],
          "name": "stderr"
        }
      ]
    },
    {
      "cell_type": "markdown",
      "metadata": {
        "id": "BU99J07nU20B"
      },
      "source": [
        "##**Main Model**"
      ]
    },
    {
      "cell_type": "markdown",
      "metadata": {
        "id": "Xjoi8MsgVtAS"
      },
      "source": [
        "Model function runs the genetic algorithm for input number of generations for input population size and find the best structure for image recognition CNN."
      ]
    },
    {
      "cell_type": "code",
      "metadata": {
        "id": "fNGk-pJdqPIM"
      },
      "source": [
        "def Model(num_Epochs = 5, popl_size = 5, num_gen = 5, crossover_pb = 0.4, mutation_pb = 0.05):\n",
        "    global totalEpochs\n",
        "    totalEpochs = num_Epochs\n",
        "    global chromosomeSize\n",
        "    chromosomeSize = 13\n",
        "    global population_size\n",
        "    population_size = popl_size\n",
        "    global num_generations\n",
        "    num_generations = num_gen\n",
        "\n",
        "    \n",
        "\n",
        "    creator.create(\"FitnessMax\", base.Fitness, weights = (1.0,))\n",
        "    creator.create(\"Individual\", list , fitness = creator.FitnessMax)\n",
        "\n",
        "    toolbox = base.Toolbox()\n",
        "    toolbox.register(\"binary\", bernoulli.rvs, 0.5)\n",
        "    toolbox.register(\"individual\", tools.initRepeat, creator.Individual, toolbox.binary, n = chromosomeSize)\n",
        "    toolbox.register(\"population\", tools.initRepeat, list , toolbox.individual)\n",
        "\n",
        "    toolbox.register(\"mate\", tools.cxOrdered)\n",
        "    toolbox.register(\"mutate\", tools.mutShuffleIndexes, indpb = 0.5)\n",
        "    toolbox.register(\"select\", tools.selRoulette)\n",
        "    toolbox.register(\"evaluate\", scoreFunction)\n",
        "\n",
        "    popl = toolbox.population(n = population_size)\n",
        "    result = algorithms.eaSimple(popl, toolbox, cxpb = crossover_pb, mutpb = mutation_pb, ngen = num_generations, verbose = True)\n",
        "\n",
        "    best_individuals = tools.selBest(popl, k = 3)\n",
        "    for bi in best_individuals:\n",
        "        print(bi)\n",
        "    return best_individuals\n"
      ],
      "execution_count": null,
      "outputs": []
    },
    {
      "cell_type": "markdown",
      "metadata": {
        "id": "YzEGEwEZXVL6"
      },
      "source": [
        "#**END OF CODE**"
      ]
    }
  ]
}